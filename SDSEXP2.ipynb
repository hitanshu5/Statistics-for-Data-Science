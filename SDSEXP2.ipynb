{
  "nbformat": 4,
  "nbformat_minor": 0,
  "metadata": {
    "colab": {
      "provenance": [],
      "authorship_tag": "ABX9TyNOvD8h1viABdu4iMS1GuC5",
      "include_colab_link": true
    },
    "kernelspec": {
      "name": "python3",
      "display_name": "Python 3"
    },
    "language_info": {
      "name": "python"
    }
  },
  "cells": [
    {
      "cell_type": "markdown",
      "metadata": {
        "id": "view-in-github",
        "colab_type": "text"
      },
      "source": [
        "<a href=\"https://colab.research.google.com/github/hitanshu5/Statistics-for-Data-Science/blob/main/SDSEXP2.ipynb\" target=\"_parent\"><img src=\"https://colab.research.google.com/assets/colab-badge.svg\" alt=\"Open In Colab\"/></a>"
      ]
    },
    {
      "cell_type": "code",
      "execution_count": null,
      "metadata": {
        "colab": {
          "base_uri": "https://localhost:8080/"
        },
        "id": "7IvE30fvLAzg",
        "outputId": "d4141bad-2c3d-41b5-c1f8-ba9ec1d50777"
      },
      "outputs": [
        {
          "output_type": "stream",
          "name": "stdout",
          "text": [
            "Mean is 12.8\n"
          ]
        }
      ],
      "source": [
        "import numpy as np\n",
        "numbers = [20,2,7,1,34]\n",
        "mean= np.mean(numbers)\n",
        "print(\"Mean is\",mean)"
      ]
    },
    {
      "cell_type": "code",
      "source": [
        "import numpy as np\n",
        "multi_array = np.array([[14,17,12,33,44],[15,6,27,8,19],[23,2,54,1,4]])\n",
        "\n",
        "ColMean = np.mean(multi_array,axis=0)\n",
        "print(\"Column Means\",ColMean)\n",
        "\n",
        "RowMean = np.mean(multi_array,axis=1)\n",
        "print(\"Row Means\",RowMean)\n",
        "\n",
        "Mean = np.mean(multi_array)\n",
        "print(\"Mean of whole Matrix is\",Mean)"
      ],
      "metadata": {
        "colab": {
          "base_uri": "https://localhost:8080/"
        },
        "id": "x7lfMzaxMHWq",
        "outputId": "0ddce387-b103-4c3d-ba8f-083413bcd5d1"
      },
      "execution_count": null,
      "outputs": [
        {
          "output_type": "stream",
          "name": "stdout",
          "text": [
            "Column Means [17.33333333  8.33333333 31.         14.         22.33333333]\n",
            "Row Means [24.  15.  16.8]\n",
            "Mean of whole Matrix is 18.6\n"
          ]
        }
      ]
    },
    {
      "cell_type": "code",
      "source": [
        "import numpy as np\n",
        "multi_array = np.array([[3,7,5],[8,4,3],[2,4,9]])\n",
        "\n",
        "Max = np.max(multi_array)\n",
        "Min = np.min(multi_array)\n",
        "Range = Max - Min\n",
        "\n",
        "MaxCol = np.max(multi_array,axis=0)\n",
        "MinCol = np.min(multi_array,axis=0)\n",
        "RangeCol = MaxCol - MinCol\n",
        "\n",
        "MaxRow = np.max(multi_array,axis=1)\n",
        "MinRow = np.min(multi_array,axis=1)\n",
        "RangeRow = MaxRow - MinRow\n",
        "\n",
        "print(\"Entire Data: Max={},Min={},Range={}\".format(Max,Min,Range))\n",
        "print(\"Columns: Max={},Min={},Range={}\".format(MaxCol,MinCol,RangeCol))\n",
        "print(\"Rows: Max={},Min={},Range={}\".format(MaxRow,MinRow,RangeRow))"
      ],
      "metadata": {
        "colab": {
          "base_uri": "https://localhost:8080/"
        },
        "id": "hlNNnGMrNLNk",
        "outputId": "69cb8386-75dc-47a3-e81c-0f8b3aef69f2"
      },
      "execution_count": null,
      "outputs": [
        {
          "output_type": "stream",
          "name": "stdout",
          "text": [
            "Entire Data: Max=9,Min=2,Range=7\n",
            "Columns: Max=[8 7 9],Min=[2 4 3],Range=[6 3 6]\n",
            "Rows: Max=[7 8 9],Min=[3 3 2],Range=[4 5 7]\n"
          ]
        }
      ]
    },
    {
      "cell_type": "code",
      "source": [
        "import numpy as np\n",
        "data=np.array([[1,4],[2,3],[3,2],[4,1]])\n",
        "weighted_avg =  np.average(data[:,0],weights=data[:,1])\n",
        "print(\"Weighted Average\",weighted_avg)"
      ],
      "metadata": {
        "colab": {
          "base_uri": "https://localhost:8080/"
        },
        "id": "W3MlOvchO-NR",
        "outputId": "eb75eda5-883c-41d4-970e-f8af43a230ad"
      },
      "execution_count": null,
      "outputs": [
        {
          "output_type": "stream",
          "name": "stdout",
          "text": [
            "Weighted Average 2.0\n"
          ]
        }
      ]
    },
    {
      "cell_type": "code",
      "source": [
        "import numpy as np\n",
        "from statistics import mode\n",
        "speed = [99,86,87,88,111,86,103,87,94,78,77,85,86]\n",
        "\n",
        "mean_speed = np.mean(speed)\n",
        "print(\"Mean Speed\",mean_speed)\n",
        "\n",
        "sorted_speed = np.sort(speed)\n",
        "median_speed = np.median(sorted_speed)\n",
        "print(\"median Speed\",median_speed)\n",
        "\n",
        "mode_speed = mode(speed)\n",
        "print(\"Mode Speed\",mode_speed)"
      ],
      "metadata": {
        "colab": {
          "base_uri": "https://localhost:8080/"
        },
        "id": "WS6vSnJEPiCP",
        "outputId": "265aa478-29c5-48ac-bcb8-b6c121a821cc"
      },
      "execution_count": null,
      "outputs": [
        {
          "output_type": "stream",
          "name": "stdout",
          "text": [
            "Mean Speed 89.76923076923077\n",
            "median Speed 87.0\n",
            "Mode Speed 86\n"
          ]
        }
      ]
    },
    {
      "cell_type": "code",
      "source": [
        "import numpy as np\n",
        "from scipy.stats import gmean\n",
        "data=np.array([[1,3,27],[3,4,6],[7,6,3],[3,6,8]])\n",
        "\n",
        "ColGmean = gmean(data,axis=0)\n",
        "print(\"Gmean of Column\",ColGmean)\n",
        "\n",
        "RowGmean = gmean(data,axis=1)\n",
        "print(\"Gmean of Row\",RowGmean)\n",
        "\n",
        "Gmean = gmean(data)\n",
        "print(\"Gmean of whole matrix\",Gmean)"
      ],
      "metadata": {
        "colab": {
          "base_uri": "https://localhost:8080/"
        },
        "id": "ppMm88jWQS5-",
        "outputId": "81082a7b-750c-47f3-ce87-b4d4d177043a"
      },
      "execution_count": null,
      "outputs": [
        {
          "output_type": "stream",
          "name": "stdout",
          "text": [
            "Gmean of Column [2.81731325 4.55901411 7.89644408]\n",
            "Gmean of Row [4.32674871 4.16016765 5.01329793 5.24148279]\n",
            "Gmean of whole matrix [2.81731325 4.55901411 7.89644408]\n"
          ]
        }
      ]
    },
    {
      "cell_type": "code",
      "source": [
        "import statistics\n",
        "numbers = [1,3,5,7,9]\n",
        "harmonic_mean = statistics.harmonic_mean(numbers)\n",
        "print(\"Harmonic Mean is\",harmonic_mean)"
      ],
      "metadata": {
        "colab": {
          "base_uri": "https://localhost:8080/"
        },
        "id": "paoOyVZCRTGh",
        "outputId": "7ad125ce-9272-4464-e2e7-dfc80a79fa74"
      },
      "execution_count": null,
      "outputs": [
        {
          "output_type": "stream",
          "name": "stdout",
          "text": [
            "Harmonic Mean is 2.797513321492007\n"
          ]
        }
      ]
    },
    {
      "cell_type": "code",
      "source": [
        "import numpy as np\n",
        "data=np.array([[30,65,70],[80,95,10],[50,90,60]])\n",
        "\n",
        "MedianCol = np.median(data,axis=1)\n",
        "MedianRow = np.median(data,axis=0)\n",
        "Median = np.median(data)\n",
        "\n",
        "print(\"Column Medians\",MedianCol)\n",
        "print(\"Row Medians\",MedianRow)\n",
        "print(\"Median is\",Median)"
      ],
      "metadata": {
        "colab": {
          "base_uri": "https://localhost:8080/"
        },
        "id": "6sYu9jsRRsAE",
        "outputId": "da9f9a30-bff1-4af0-b848-b55cd83c6670"
      },
      "execution_count": null,
      "outputs": [
        {
          "output_type": "stream",
          "name": "stdout",
          "text": [
            "Column Medians [65. 80. 60.]\n",
            "Row Medians [50. 90. 60.]\n",
            "Median is 65.0\n"
          ]
        }
      ]
    },
    {
      "cell_type": "code",
      "source": [
        "import numpy as np\n",
        "\n",
        "def grouped_mean(x):\n",
        "  n=len(x)\n",
        "  sum = 0\n",
        "  F = 0\n",
        "  for i1 in range(n):\n",
        "    sum = sum + ((x[i1][0] + x[i1][]1)/2) * x[i1][2]\n",
        "    F = F + x[i1][2]\n",
        "  Mean = sum/F\n",
        "  return Mean\n",
        "\n",
        "def grouped_median(A):\n",
        "  n=len(A)\n",
        "  for i1 in range(n):\n",
        "    if i1==0:\n",
        "      A[i1][3]==A[i1][2]\n",
        "    else:\n",
        "      A[i1][3]==A[i1-1][3]\n",
        "\n",
        "  m = A[n-1][3]/2\n",
        "  for i in range(n-1):\n",
        "    if A[i][3]<m<=A[i+1][3]:\n",
        "      L=A[i+1][0]\n",
        "      IW=A[i+1][1]-A[i+1][0]\n",
        "      CF=A[i][3]\n",
        "      Fi=A[i][2]\n",
        "      Median=L+(m-CF) * IW/Fi\n",
        "      break\n",
        "  return Median\n",
        "\n",
        "x=np.array([[0,0.99,2,0],[1,1.99,4,0],[2,2.99,6,0],[3,3.99,7,0],[4,4.99,5,0],[5,5.99,5,0],[6,6.99,1,0]])\n",
        "print(\"Grouped Mean\",grouped_mean(x))\n",
        "print(\"Grouped Median\",grouped_median(x))\n",
        "\n"
      ],
      "metadata": {
        "colab": {
          "base_uri": "https://localhost:8080/",
          "height": 158
        },
        "id": "WuAGmKexRs2P",
        "outputId": "bf2e5c1d-ca2b-4b12-e373-c6140efc0fe6"
      },
      "execution_count": null,
      "outputs": [
        {
          "output_type": "error",
          "ename": "SyntaxError",
          "evalue": "invalid syntax. Perhaps you forgot a comma? (<ipython-input-13-77e0709c97fd>, line 8)",
          "traceback": [
            "\u001b[0;36m  File \u001b[0;32m\"<ipython-input-13-77e0709c97fd>\"\u001b[0;36m, line \u001b[0;32m8\u001b[0m\n\u001b[0;31m    sum = sum + ((x[i1][0] + x[i1][]1)/2) * x[i1][2]\u001b[0m\n\u001b[0m                  ^\u001b[0m\n\u001b[0;31mSyntaxError\u001b[0m\u001b[0;31m:\u001b[0m invalid syntax. Perhaps you forgot a comma?\n"
          ]
        }
      ]
    },
    {
      "cell_type": "code",
      "source": [
        "import numpy as np\n",
        "data = np.array([30,40,72,83,25,10,50,90,60,15,5,9,34,23,67,80,67,45])\n",
        "def percentile(data,p):\n",
        "  return np.percentile(data,p)\n",
        "\n",
        "print(\"30 percentiles\",percentile(data,30))\n",
        "print(\"50 percentiles\",percentile(data,50))\n",
        "print(\"75 percentiles\",percentile(data,75))\n",
        "print(\"90 percentiles\",percentile(data,90))"
      ],
      "metadata": {
        "colab": {
          "base_uri": "https://localhost:8080/"
        },
        "id": "mr0iI8V7V2nn",
        "outputId": "8e0b4a5b-f309-4478-b881-0c056dd6df9d"
      },
      "execution_count": null,
      "outputs": [
        {
          "output_type": "stream",
          "name": "stdout",
          "text": [
            "30 percentiles 25.5\n",
            "50 percentiles 42.5\n",
            "75 percentiles 67.0\n",
            "90 percentiles 80.9\n"
          ]
        }
      ]
    },
    {
      "cell_type": "code",
      "source": [
        "data = np.array([91,79,66,98,127,139,154,147,192,88,97,92,87,142,127,184,145,162,95,89,86,98,145,129,149,158,241])\n",
        "\n",
        "bin = np.array([66,87,109,220])\n",
        "freq = np.array([1,2,3,1])\n",
        "\n",
        "modal_val = np.argmax(freq)\n",
        "print(\"Modal Value\",modal_val)\n",
        "\n",
        "mean=np.mean(data)\n",
        "print(\"Mean is\",mean)"
      ],
      "metadata": {
        "colab": {
          "base_uri": "https://localhost:8080/"
        },
        "id": "7TVj3O8MW9zC",
        "outputId": "2d0bc0e3-4002-4c6d-8ad0-933d6db67749"
      },
      "execution_count": null,
      "outputs": [
        {
          "output_type": "stream",
          "name": "stdout",
          "text": [
            "Modal Value 2\n",
            "Mean is 126.18518518518519\n"
          ]
        }
      ]
    },
    {
      "cell_type": "code",
      "source": [
        "data = np.array([51, 38, 79, 46, 57])\n",
        "std_dev=np.std(data)\n",
        "print(\"Standard deviation is\",std_dev)"
      ],
      "metadata": {
        "colab": {
          "base_uri": "https://localhost:8080/"
        },
        "id": "jqtUzXmQYCm0",
        "outputId": "22c0436f-356d-4673-8a0b-49c75491be90"
      },
      "execution_count": null,
      "outputs": [
        {
          "output_type": "stream",
          "name": "stdout",
          "text": [
            "Standard deviation is 13.876599006961325\n"
          ]
        }
      ]
    },
    {
      "cell_type": "code",
      "source": [
        "data = np.array([3600,4200,4700,4900,5300,5700,6700,7300,7700,8100,8300,8400,8700,8700,8900,9300,9500,9500,9700,10000,\n",
        "                 10300,10500,10700,10800,11000,11300,11300,11800,12100,12700,12900,13100,13500,13800,14600,14900,16300,17200,18500,20300])\n",
        "Range = np.max(data)-np.min(data)\n",
        "print(\"Range is\",Range)\n",
        "\n",
        "q1=np.percentile(data,25)\n",
        "q3=np.percentile(data,75)\n",
        "iqr = q3-q1\n",
        "print(\"IQR is\",iqr)"
      ],
      "metadata": {
        "colab": {
          "base_uri": "https://localhost:8080/"
        },
        "id": "_SLdKQrZYRh2",
        "outputId": "2760ff3f-6552-4dd0-aded-689afa4f6575"
      },
      "execution_count": null,
      "outputs": [
        {
          "output_type": "stream",
          "name": "stdout",
          "text": [
            "Range is 16700\n",
            "IQR is 4500.0\n"
          ]
        }
      ]
    },
    {
      "cell_type": "code",
      "source": [
        "data=np.array([6.3,7.2,7.3, 8.1, 7.8, 6.8, 7.5, 7.8, 7.2, 7.5, 8.1, 8.2,\n",
        "8.0, 7.4, 7.6, 7.7, 7.6, 7.4, 7.5, 8.4, 7.4 ,7.6 ,6.2 ,7.4])\n",
        "\n",
        "mean=np.mean(data)\n",
        "std_dev = np.std(data)\n",
        "\n",
        "if mean == 7.5 and std_dev < 0.5:\n",
        "  print(\"The Chef accepts the tomatoes\")\n",
        "else:\n",
        "  print(\"The Chef doesnt accept the tomatoes\")"
      ],
      "metadata": {
        "colab": {
          "base_uri": "https://localhost:8080/"
        },
        "id": "UUa6JFGbZwTh",
        "outputId": "68bc61ba-a159-45f7-e278-9d52ef3ef2b8"
      },
      "execution_count": null,
      "outputs": [
        {
          "output_type": "stream",
          "name": "stdout",
          "text": [
            "The Chef doesnt accept the tomatoes\n"
          ]
        }
      ]
    },
    {
      "cell_type": "code",
      "source": [
        "import numpy as np\n",
        "\n",
        "group1_mean = 32.11\n",
        "group1_variance = 68.09\n",
        "\n",
        "group2_mean = 19.75\n",
        "group2_variance = 71.14\n",
        "\n",
        "group1_cv = group1_variance/group1_mean\n",
        "group2_cv = group2_variance/group2_mean\n",
        "\n",
        "if group1_cv < group2_cv:\n",
        "  print(\"Training Program A has less relative variability\")\n",
        "else:\n",
        "  print(\"Training Program B has less relative variability\")"
      ],
      "metadata": {
        "colab": {
          "base_uri": "https://localhost:8080/"
        },
        "id": "LRk2qLMCalas",
        "outputId": "db10ff47-a91e-414c-c6ad-4260646f5fb9"
      },
      "execution_count": null,
      "outputs": [
        {
          "output_type": "stream",
          "name": "stdout",
          "text": [
            "Training Program A has less relative variability\n"
          ]
        }
      ]
    },
    {
      "cell_type": "code",
      "source": [
        "import numpy as np\n",
        "import matplotlib.pyplot as plt\n",
        "\n",
        "weights = np.array([80,90,100,110,120,130,140,145,150,160,170,180,190,200,210])\n",
        "freq = np.array([10,10,11,23,26,26,31,31,23,9,9,9,9,6,2])\n",
        "\n",
        "plt.hist(weights,bins=15,weights=freq,edgecolor='black')\n",
        "plt.xlabel('weight (lbs)')\n",
        "plt.ylabel('Frequency')\n",
        "plt.show()"
      ],
      "metadata": {
        "colab": {
          "base_uri": "https://localhost:8080/",
          "height": 449
        },
        "id": "poFO_fs4bmjw",
        "outputId": "b6c46d28-ab11-42cd-a46a-6b43357023e9"
      },
      "execution_count": null,
      "outputs": [
        {
          "output_type": "display_data",
          "data": {
            "text/plain": [
              "<Figure size 640x480 with 1 Axes>"
            ],
            "image/png": "[encoded data removed]"
          },
          "metadata": {}
        }
      ]
    },
    {
      "cell_type": "code",
      "source": [
        "import numpy as np\n",
        "day_class = np.array([99,56 ,78 ,55.5, 32 ,90 ,80, 81, 56, 59, 45, 77, 84.5 ,84, 70, 72, 68, 32, 79, 90])\n",
        "night_class = np.array([98, 78, 68, 83, 81, 89, 88, 76, 65, 45 ,98, 90, 80, 84.5, 85, 79, 78, 98, 90, 79, 81, 25.5])\n",
        "\n",
        "day_class_min = np.min(day_class)\n",
        "day_class_max = np.max(day_class)\n",
        "day_class_median = np.median(day_class)\n",
        "day_class_first_quartile = np.percentile(day_class,25)\n",
        "day_class_third_quartile = np.percentile(day_class,75)\n",
        "day_class_smallest_to_q1 = (np.percentile(day_class,25)-day_class_min)/(day_class_max - day_class_min) * 100\n",
        "day_class_q1_to_median = (np.median(day_class)-np.percentile(day_class,25))/(day_class_max - day_class_min) * 100\n",
        "day_class_median_to_q3 = (np.percentile(day_class,75)-np.median(day_class))/(day_class_max - day_class_min) * 100\n",
        "day_class_q3_to_largest = (day_class_max - np.percentile(day_class,75))/(day_class_max - day_class_min) * 100\n",
        "day_class_q1_to_largest = (day_class_max - np.percentile(day_class,25))/(day_class_max - day_class_min) * 100\n",
        "\n",
        "night_class_min = np.min(night_class)\n",
        "night_class_max = np.max(night_class)\n",
        "night_class_median = np.median(night_class)\n",
        "night_class_first_quartile = np.percentile(night_class,25)\n",
        "night_class_third_quartile = np.percentile(night_class,75)\n",
        "night_class_smallest_to_q1 = (np.percentile(night_class,25)-night_class_min)/(night_class_max - night_class_min) * 100\n",
        "night_class_q1_to_median = (np.median(night_class)-np.percentile(night_class,25))/(night_class_max - night_class_min) * 100\n",
        "night_class_median_to_q3 = (np.percentile(night_class,75)-np.median(night_class))/(night_class_max - night_class_min) * 100\n",
        "night_class_q3_to_largest = (night_class_max - np.percentile(night_class,75))/(night_class_max - night_class_min) * 100\n",
        "night_class_q1_to_largest = (night_class_max - np.percentile(night_class,25))/(night_class_max - night_class_min) * 100\n",
        "\n",
        "print(\"DAY CLASS\")\n",
        "print(\"Min of Day Class\",day_class_min)\n",
        "print(\"Max of Day Class\",day_class_max)\n",
        "print(\"Median of Day Class\",day_class_median)\n",
        "print(\"First Quartile of Day Class\",day_class_first_quartile)\n",
        "print(\"Third Quartile of Day Class\",day_class_third_quartile)\n",
        "print(\"Smallest to Q1 of Day Class\",day_class_smallest_to_q1)\n",
        "print(\"Q1 to Median of Day Class\",day_class_q1_to_median)\n",
        "print(\"Median to Q3 of Day Class\",day_class_median_to_q3)\n",
        "print(\"Q3 to Largest of Day Class\",day_class_q3_to_largest)\n",
        "print(\"Q1 to Largest of Day Class\",day_class_q1_to_largest)\n",
        "print()\n",
        "print(\"NIGHT CLASS\")\n",
        "print(\"Min of Night Class\",night_class_min)\n",
        "print(\"Max of Night Class\",night_class_max)\n",
        "print(\"Median of Night Class\",night_class_median)\n",
        "print(\"First Quartile of Night Class\",night_class_first_quartile)\n",
        "print(\"Third Quartile of Night Class\",night_class_third_quartile)\n",
        "print(\"Smallest to Q1 of Night Class\",night_class_smallest_to_q1)\n",
        "print(\"Q1 to Median of Night Class\",night_class_q1_to_median)\n",
        "print(\"Median to Q3 of Night Class\",night_class_median_to_q3)\n",
        "print(\"Q3 to Largest of Night Class\",night_class_q3_to_largest)\n",
        "print(\"Q1 to Largest of Night Class\",night_class_q1_to_largest)"
      ],
      "metadata": {
        "colab": {
          "base_uri": "https://localhost:8080/"
        },
        "id": "aOnxJPsqc5nA",
        "outputId": "53c3b562-c3cf-4ee9-9234-1afe9ccf7736"
      },
      "execution_count": null,
      "outputs": [
        {
          "output_type": "stream",
          "name": "stdout",
          "text": [
            "DAY CLASS\n",
            "Min of Day Class 32.0\n",
            "Max of Day Class 99.0\n",
            "Median of Day Class 74.5\n",
            "First Quartile of Day Class 56.0\n",
            "Third Quartile of Day Class 81.75\n",
            "Smallest to Q1 of Day Class 35.82089552238806\n",
            "Q1 to Median of Day Class 27.611940298507463\n",
            "Median to Q3 of Day Class 10.820895522388058\n",
            "Q3 to Largest of Day Class 25.74626865671642\n",
            "Q1 to Largest of Day Class 64.17910447761194\n",
            "\n",
            "NIGHT CLASS\n",
            "Min of Night Class 25.5\n",
            "Max of Night Class 98.0\n",
            "Median of Night Class 81.0\n",
            "First Quartile of Night Class 78.0\n",
            "Third Quartile of Night Class 88.75\n",
            "Smallest to Q1 of Night Class 72.41379310344827\n",
            "Q1 to Median of Night Class 4.137931034482759\n",
            "Median to Q3 of Night Class 10.689655172413794\n",
            "Q3 to Largest of Night Class 12.758620689655173\n",
            "Q1 to Largest of Night Class 27.586206896551722\n"
          ]
        }
      ]
    }
  ]
}