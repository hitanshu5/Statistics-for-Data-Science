{
  "nbformat": 4,
  "nbformat_minor": 0,
  "metadata": {
    "colab": {
      "provenance": [],
      "authorship_tag": "ABX9TyPf6j7QyfBehmIyOPQH2LKc",
      "include_colab_link": true
    },
    "kernelspec": {
      "name": "python3",
      "display_name": "Python 3"
    },
    "language_info": {
      "name": "python"
    }
  },
  "cells": [
    {
      "cell_type": "markdown",
      "metadata": {
        "id": "view-in-github",
        "colab_type": "text"
      },
      "source": [
        "<a href=\"https://colab.research.google.com/github/hitanshu5/Statistics-for-Data-Science/blob/main/SDSEXP8.ipynb\" target=\"_parent\"><img src=\"https://colab.research.google.com/assets/colab-badge.svg\" alt=\"Open In Colab\"/></a>"
      ]
    },
    {
      "cell_type": "code",
      "execution_count": null,
      "metadata": {
        "colab": {
          "base_uri": "https://localhost:8080/"
        },
        "id": "mT3pUFiRKjtg",
        "outputId": "3c6f164a-7405-4ae1-9d5a-dc6af819c765"
      },
      "outputs": [
        {
          "output_type": "stream",
          "name": "stdout",
          "text": [
            "0.9331927987311419\n"
          ]
        }
      ],
      "source": [
        "import scipy.stats as stats\n",
        "print(stats.norm.cdf(1.5))"
      ]
    },
    {
      "cell_type": "code",
      "source": [
        "import scipy.stats as stats\n",
        "print(1-stats.norm.cdf(0.5))"
      ],
      "metadata": {
        "colab": {
          "base_uri": "https://localhost:8080/"
        },
        "id": "1-B5cCPZK-2B",
        "outputId": "9d9ea5fb-1efc-4fcd-fe74-4e1d63601584"
      },
      "execution_count": null,
      "outputs": [
        {
          "output_type": "stream",
          "name": "stdout",
          "text": [
            "0.3085375387259869\n"
          ]
        }
      ]
    },
    {
      "cell_type": "code",
      "source": [
        "import scipy.stats as stats\n",
        "result= stats.norm.cdf(0.5) - stats.norm.cdf(-0.5)\n",
        "print(result)x"
      ],
      "metadata": {
        "colab": {
          "base_uri": "https://localhost:8080/"
        },
        "id": "JHMDEagSLE6h",
        "outputId": "afa43fa0-482f-4558-db02-d17616b615ef"
      },
      "execution_count": null,
      "outputs": [
        {
          "output_type": "stream",
          "name": "stdout",
          "text": [
            "0.38292492254802624\n"
          ]
        }
      ]
    },
    {
      "cell_type": "code",
      "source": [
        "import scipy.stats as stats\n",
        "result = (1 - stats.norm.cdf(0.5)) * 2\n",
        "print(result)"
      ],
      "metadata": {
        "colab": {
          "base_uri": "https://localhost:8080/"
        },
        "id": "qWBUir8qLUnR",
        "outputId": "b42e7ade-0d17-445a-d762-09c592d491c8"
      },
      "execution_count": null,
      "outputs": [
        {
          "output_type": "stream",
          "name": "stdout",
          "text": [
            "0.6170750774519738\n"
          ]
        }
      ]
    },
    {
      "cell_type": "code",
      "source": [
        "import scipy.stats as stats\n",
        "result = stats.norm.cdf(1) - stats.norm.cdf(-2.2)\n",
        "print(result)"
      ],
      "metadata": {
        "colab": {
          "base_uri": "https://localhost:8080/"
        },
        "id": "9DwnuYVfLfZR",
        "outputId": "0976ee97-d754-4a19-f480-6fadfa928629"
      },
      "execution_count": null,
      "outputs": [
        {
          "output_type": "stream",
          "name": "stdout",
          "text": [
            "0.8274412985550443\n"
          ]
        }
      ]
    },
    {
      "cell_type": "markdown",
      "source": [
        "Q2"
      ],
      "metadata": {
        "id": "8NCAPUKzL14x"
      }
    },
    {
      "cell_type": "code",
      "source": [
        "import scipy.stats as stats\n",
        "print(stats.norm.ppf(0.9))"
      ],
      "metadata": {
        "colab": {
          "base_uri": "https://localhost:8080/"
        },
        "id": "s90TrygsL4eJ",
        "outputId": "7ae33ba4-d249-4b94-b9a3-cfe9fce3c0e6"
      },
      "execution_count": null,
      "outputs": [
        {
          "output_type": "stream",
          "name": "stdout",
          "text": [
            "1.2815515655446004\n"
          ]
        }
      ]
    },
    {
      "cell_type": "code",
      "source": [
        "import scipy.stats as stats\n",
        "print(stats.norm.ppf(0.95))"
      ],
      "metadata": {
        "colab": {
          "base_uri": "https://localhost:8080/"
        },
        "id": "pyJTs-sVMA0R",
        "outputId": "1605f0ee-d5cd-41fd-85ff-8e8642896a04"
      },
      "execution_count": null,
      "outputs": [
        {
          "output_type": "stream",
          "name": "stdout",
          "text": [
            "1.6448536269514722\n"
          ]
        }
      ]
    },
    {
      "cell_type": "code",
      "source": [
        "import scipy.stats as stats\n",
        "print(stats.norm.ppf(0.99))"
      ],
      "metadata": {
        "colab": {
          "base_uri": "https://localhost:8080/"
        },
        "id": "5AK9POXCMFci",
        "outputId": "a7776462-ef1e-496e-9720-ff02b47c0c2d"
      },
      "execution_count": null,
      "outputs": [
        {
          "output_type": "stream",
          "name": "stdout",
          "text": [
            "2.3263478740408408\n"
          ]
        }
      ]
    },
    {
      "cell_type": "code",
      "source": [
        "import scipy.stats as stats\n",
        "print(stats.norm.ppf(0.95))"
      ],
      "metadata": {
        "colab": {
          "base_uri": "https://localhost:8080/"
        },
        "id": "_srvN0nuMJgO",
        "outputId": "f643e20c-87da-4b96-a046-9444d33b37ce"
      },
      "execution_count": null,
      "outputs": [
        {
          "output_type": "stream",
          "name": "stdout",
          "text": [
            "1.6448536269514722\n"
          ]
        }
      ]
    },
    {
      "cell_type": "code",
      "source": [
        "import scipy.stats as stats\n",
        "print(stats.norm.ppf(0.975))"
      ],
      "metadata": {
        "colab": {
          "base_uri": "https://localhost:8080/"
        },
        "id": "65uSJtQSMQUG",
        "outputId": "89085258-e64d-42d4-bedc-f516f8aa5ce3"
      },
      "execution_count": null,
      "outputs": [
        {
          "output_type": "stream",
          "name": "stdout",
          "text": [
            "1.959963984540054\n"
          ]
        }
      ]
    },
    {
      "cell_type": "code",
      "source": [
        "import scipy.stats as stats\n",
        "print(stats.norm.ppf(0.995))"
      ],
      "metadata": {
        "colab": {
          "base_uri": "https://localhost:8080/"
        },
        "id": "6AE9jpg2MS9d",
        "outputId": "e601254a-aab8-4e47-f0bf-276f88454810"
      },
      "execution_count": null,
      "outputs": [
        {
          "output_type": "stream",
          "name": "stdout",
          "text": [
            "2.5758293035489004\n"
          ]
        }
      ]
    },
    {
      "cell_type": "markdown",
      "source": [
        "Q3"
      ],
      "metadata": {
        "id": "Ng4-TvrWMVlf"
      }
    },
    {
      "cell_type": "code",
      "source": [
        "from scipy.stats import t\n",
        "print(t.cdf(1.5,df=20))"
      ],
      "metadata": {
        "colab": {
          "base_uri": "https://localhost:8080/"
        },
        "id": "giIQkPQLMWtO",
        "outputId": "4ffb0c6e-48e3-4d6b-9426-0cefe6a44020"
      },
      "execution_count": null,
      "outputs": [
        {
          "output_type": "stream",
          "name": "stdout",
          "text": [
            "0.9253821144153737\n"
          ]
        }
      ]
    },
    {
      "cell_type": "code",
      "source": [
        "from scipy.stats import t\n",
        "print(1 - t.cdf(0.5,df=15))"
      ],
      "metadata": {
        "colab": {
          "base_uri": "https://localhost:8080/"
        },
        "id": "jRojnJLrMhkK",
        "outputId": "3a7c3fc7-f198-4433-95a6-ce02b1897151"
      },
      "execution_count": null,
      "outputs": [
        {
          "output_type": "stream",
          "name": "stdout",
          "text": [
            "0.3121650567600378\n"
          ]
        }
      ]
    },
    {
      "cell_type": "code",
      "source": [
        "from scipy.stats import t\n",
        "print(t.cdf(1.5,df=25) - t.cdf(-1.5,df=25))"
      ],
      "metadata": {
        "colab": {
          "base_uri": "https://localhost:8080/"
        },
        "id": "humNjrHHMpW3",
        "outputId": "4d8271e5-a7d8-423d-f4ed-acf9e6ccb2b5"
      },
      "execution_count": null,
      "outputs": [
        {
          "output_type": "stream",
          "name": "stdout",
          "text": [
            "0.8538615348619807\n"
          ]
        }
      ]
    },
    {
      "cell_type": "code",
      "source": [
        "from scipy.stats import t\n",
        "print(1 - 2*t.cdf(0.5,df=35))"
      ],
      "metadata": {
        "colab": {
          "base_uri": "https://localhost:8080/"
        },
        "id": "mNbMQ2ulM8RE",
        "outputId": "1f15342f-7424-4f20-a8ed-eee9977ec852"
      },
      "execution_count": null,
      "outputs": [
        {
          "output_type": "stream",
          "name": "stdout",
          "text": [
            "-0.3797956967645044\n"
          ]
        }
      ]
    },
    {
      "cell_type": "code",
      "source": [
        "from scipy.stats import t\n",
        "print(t.cdf(1,df=42) - t.cdf(-2.2,df=42))"
      ],
      "metadata": {
        "colab": {
          "base_uri": "https://localhost:8080/"
        },
        "id": "39kO9uI_NIYw",
        "outputId": "94c976dc-2f41-4698-8b9d-23f29c6a8394"
      },
      "execution_count": null,
      "outputs": [
        {
          "output_type": "stream",
          "name": "stdout",
          "text": [
            "0.8218007171327162\n"
          ]
        }
      ]
    },
    {
      "cell_type": "markdown",
      "source": [
        "Q4"
      ],
      "metadata": {
        "id": "_jMF9cyxNX1J"
      }
    },
    {
      "cell_type": "code",
      "source": [
        "from scipy.stats import t\n",
        "print(t.ppf(0.9,df=20))"
      ],
      "metadata": {
        "colab": {
          "base_uri": "https://localhost:8080/"
        },
        "id": "jXK4dEj6NYzZ",
        "outputId": "29c38e45-c994-41c3-f846-c4365e1301bb"
      },
      "execution_count": null,
      "outputs": [
        {
          "output_type": "stream",
          "name": "stdout",
          "text": [
            "1.3253407069850462\n"
          ]
        }
      ]
    },
    {
      "cell_type": "code",
      "source": [
        "from scipy.stats import t\n",
        "print(t.ppf(0.95,df=15))"
      ],
      "metadata": {
        "colab": {
          "base_uri": "https://localhost:8080/"
        },
        "id": "O_U8SLB3NlRR",
        "outputId": "c8aa6c2e-2ce0-44dd-b6d5-aba64f0775e6"
      },
      "execution_count": null,
      "outputs": [
        {
          "output_type": "stream",
          "name": "stdout",
          "text": [
            "1.7530503556925547\n"
          ]
        }
      ]
    },
    {
      "cell_type": "code",
      "source": [
        "from scipy.stats import t\n",
        "print(t.ppf(0.99,df=25))"
      ],
      "metadata": {
        "colab": {
          "base_uri": "https://localhost:8080/"
        },
        "id": "n4WGUcfINo_J",
        "outputId": "44d2120a-97fe-4d18-f5c3-fb92828dff82"
      },
      "execution_count": null,
      "outputs": [
        {
          "output_type": "stream",
          "name": "stdout",
          "text": [
            "2.4851071754106413\n"
          ]
        }
      ]
    },
    {
      "cell_type": "code",
      "source": [
        "from scipy.stats import t\n",
        "print(t.ppf(0.9,df=30))"
      ],
      "metadata": {
        "colab": {
          "base_uri": "https://localhost:8080/"
        },
        "id": "Hd-JJd-7Nr3h",
        "outputId": "6a5e4f0c-24b1-4332-aefa-d1acc6cbb9ce"
      },
      "execution_count": null,
      "outputs": [
        {
          "output_type": "stream",
          "name": "stdout",
          "text": [
            "1.3104150225671307\n"
          ]
        }
      ]
    },
    {
      "cell_type": "code",
      "source": [
        "from scipy.stats import t\n",
        "print(t.ppf(0.95,df=42))"
      ],
      "metadata": {
        "colab": {
          "base_uri": "https://localhost:8080/"
        },
        "id": "WuHOm72NNvTB",
        "outputId": "267c3501-6b83-4120-af4f-1fae1ae28110"
      },
      "execution_count": null,
      "outputs": [
        {
          "output_type": "stream",
          "name": "stdout",
          "text": [
            "1.6819523559426\n"
          ]
        }
      ]
    },
    {
      "cell_type": "code",
      "source": [
        "from scipy.stats import t\n",
        "print(t.ppf(0.99,df=10))"
      ],
      "metadata": {
        "colab": {
          "base_uri": "https://localhost:8080/"
        },
        "id": "1hK6R0wrN1JJ",
        "outputId": "c5e9b83c-f887-4821-9887-5fb1d2a1ad9c"
      },
      "execution_count": null,
      "outputs": [
        {
          "output_type": "stream",
          "name": "stdout",
          "text": [
            "2.763769457447889\n"
          ]
        }
      ]
    },
    {
      "cell_type": "markdown",
      "source": [
        "Q5"
      ],
      "metadata": {
        "id": "Z3nw2toRN5ci"
      }
    },
    {
      "cell_type": "code",
      "source": [
        "from scipy.stats import f\n",
        "print(f.cdf(1.5, dfn=5, dfd=14))"
      ],
      "metadata": {
        "colab": {
          "base_uri": "https://localhost:8080/"
        },
        "id": "FFS4B84uN6Xq",
        "outputId": "5b147f42-efac-4654-d156-81bfdb557057"
      },
      "execution_count": null,
      "outputs": [
        {
          "output_type": "stream",
          "name": "stdout",
          "text": [
            "0.7480582329156877\n"
          ]
        }
      ]
    },
    {
      "cell_type": "code",
      "source": [
        "from scipy.stats import f\n",
        "print(1 - f.cdf(2.5, dfn=15, dfd=14))"
      ],
      "metadata": {
        "colab": {
          "base_uri": "https://localhost:8080/"
        },
        "id": "7b_oucEWOLDh",
        "outputId": "11edac40-84f0-4a03-da43-361f33e1fb1e"
      },
      "execution_count": null,
      "outputs": [
        {
          "output_type": "stream",
          "name": "stdout",
          "text": [
            "0.04734368894060448\n"
          ]
        }
      ]
    },
    {
      "cell_type": "code",
      "source": [
        "from scipy.stats import f\n",
        "print(f.cdf(4.1, dfn=13, dfd=17) - f.cdf(0.5, dfn=13, dfd=17))"
      ],
      "metadata": {
        "colab": {
          "base_uri": "https://localhost:8080/"
        },
        "id": "1kSjNN_gOPzZ",
        "outputId": "ade3d087-897a-4dcd-dc8b-6d68d8300873"
      },
      "execution_count": null,
      "outputs": [
        {
          "output_type": "stream",
          "name": "stdout",
          "text": [
            "0.8911203850553827\n"
          ]
        }
      ]
    },
    {
      "cell_type": "markdown",
      "source": [
        "Q6"
      ],
      "metadata": {
        "id": "kRw445ajOfQ5"
      }
    },
    {
      "cell_type": "code",
      "source": [
        "from scipy.stats import f\n",
        "print(f.ppf(0.9, dfn=5, dfd=14))"
      ],
      "metadata": {
        "colab": {
          "base_uri": "https://localhost:8080/"
        },
        "id": "gAdCLIShOgdZ",
        "outputId": "79fb05a1-2413-4318-9a22-3738d666255c"
      },
      "execution_count": null,
      "outputs": [
        {
          "output_type": "stream",
          "name": "stdout",
          "text": [
            "2.3069430514007236\n"
          ]
        }
      ]
    },
    {
      "cell_type": "code",
      "source": [
        "from scipy.stats import f\n",
        "print(f.ppf(0.95, dfn=15, dfd=13))"
      ],
      "metadata": {
        "colab": {
          "base_uri": "https://localhost:8080/"
        },
        "id": "GKaVLb4HOsqh",
        "outputId": "e5af7940-7dea-4b53-d8e3-3fe835edd172"
      },
      "execution_count": null,
      "outputs": [
        {
          "output_type": "stream",
          "name": "stdout",
          "text": [
            "2.533109983130745\n"
          ]
        }
      ]
    },
    {
      "cell_type": "code",
      "source": [
        "from scipy.stats import f\n",
        "print(f.ppf(0.99, dfn=25, dfd=28))"
      ],
      "metadata": {
        "colab": {
          "base_uri": "https://localhost:8080/"
        },
        "id": "M12X6pR6OwtZ",
        "outputId": "7d8c65c0-544a-4c49-883b-a720e0b92f0f"
      },
      "execution_count": null,
      "outputs": [
        {
          "output_type": "stream",
          "name": "stdout",
          "text": [
            "2.5060172667359417\n"
          ]
        }
      ]
    },
    {
      "cell_type": "markdown",
      "source": [
        "Q7"
      ],
      "metadata": {
        "id": "20qzHEvZO1OK"
      }
    },
    {
      "cell_type": "code",
      "source": [
        "from scipy.stats import chi2\n",
        "print(chi2.cdf(1.5, df=10))"
      ],
      "metadata": {
        "colab": {
          "base_uri": "https://localhost:8080/"
        },
        "id": "Oc4y-rZ0O2Cy",
        "outputId": "5e2164f0-46c8-47ce-fb29-095defb6168a"
      },
      "execution_count": null,
      "outputs": [
        {
          "output_type": "stream",
          "name": "stdout",
          "text": [
            "0.0010646777727857928\n"
          ]
        }
      ]
    },
    {
      "cell_type": "code",
      "source": [
        "from scipy.stats import chi2\n",
        "print(1 - chi2.cdf(2.5, df=5))"
      ],
      "metadata": {
        "colab": {
          "base_uri": "https://localhost:8080/"
        },
        "id": "7xxa10TWPBZZ",
        "outputId": "37698761-83f7-4e0e-8f0a-0b73c1d64db1"
      },
      "execution_count": null,
      "outputs": [
        {
          "output_type": "stream",
          "name": "stdout",
          "text": [
            "0.7764950711233227\n"
          ]
        }
      ]
    },
    {
      "cell_type": "code",
      "source": [
        "from scipy.stats import chi2\n",
        "print(chi2.cdf(4.1, df=2) - chi2.cdf(0.5, df=2))"
      ],
      "metadata": {
        "colab": {
          "base_uri": "https://localhost:8080/"
        },
        "id": "RTVrzkA5PIUJ",
        "outputId": "71674e9b-3ba3-4675-b370-c4ae3bf2705d"
      },
      "execution_count": null,
      "outputs": [
        {
          "output_type": "stream",
          "name": "stdout",
          "text": [
            "0.6500658794836006\n"
          ]
        }
      ]
    },
    {
      "cell_type": "markdown",
      "source": [
        "Q8"
      ],
      "metadata": {
        "id": "x_j-xX3MPXBS"
      }
    },
    {
      "cell_type": "code",
      "source": [
        "from scipy.stats import chi2\n",
        "X1 = chi2.ppf(0.99, df=1)\n",
        "X2 = chi2.ppf(0.92, df=3)\n",
        "X3 = chi2.ppf(0.99, df=2)\n",
        "X4 = chi2.ppf(0.05, df=1)\n",
        "X5 = chi2.ppf(0.025, df=3)\n",
        "X6 = chi2.ppf(0.005, df=2)\n",
        "\n",
        "print(\"(i) X0 for P(X < X0) = 0.99 with df = 1\",X1)\n",
        "print(\"(ii) X0 for P(X < X0) = 0.95 with df = 3\",X2)\n",
        "print(\"(iii) X0 for P(X < X0) = 0.99 with df = 2\",X3)\n",
        "print(\"(iv) X0 for P(X < X0) = 0.05 with df = 1\",X4)\n",
        "print(\"(v) X0 for P(X < X0) = 0.025 with df = 3\",X5)\n",
        "print(\"(vi) X0 for P(X < X0) = 0.005 with df = 2\",X6)"
      ],
      "metadata": {
        "colab": {
          "base_uri": "https://localhost:8080/"
        },
        "id": "wRBXeUUePYcK",
        "outputId": "38b11839-3fbe-42d7-e676-16ed5971a683"
      },
      "execution_count": null,
      "outputs": [
        {
          "output_type": "stream",
          "name": "stdout",
          "text": [
            "(i) X0 for P(X < X0) = 0.99 with df = 1 6.6348966010212145\n",
            "(ii) X0 for P(X < X0) = 0.95 with df = 3 6.758692619696839\n",
            "(iii) X0 for P(X < X0) = 0.99 with df = 2 9.21034037197618\n",
            "(iv) X0 for P(X < X0) = 0.05 with df = 1 0.003932140000019522\n",
            "(v) X0 for P(X < X0) = 0.025 with df = 3 0.21579528262389785\n",
            "(vi) X0 for P(X < X0) = 0.005 with df = 2 0.010025083647088564\n"
          ]
        }
      ]
    },
    {
      "cell_type": "markdown",
      "source": [
        "Q9"
      ],
      "metadata": {
        "id": "NvOTvmY6RRYS"
      }
    },
    {
      "cell_type": "code",
      "source": [
        "import numpy as np\n",
        "from scipy.stats import norm\n",
        "sample_mean = 101.82\n",
        "population_std  = 1.2\n",
        "n = 6\n",
        "\n",
        "confidence_level = 0.95\n",
        "\n",
        "standard_error = population_std / np.sqrt(n)\n",
        "\n",
        "confidence_interval = norm.interval(confidence_level, loc=sample_mean, scale = standard_error)\n",
        "print(f\"confidence interval: {confidence_interval}\")"
      ],
      "metadata": {
        "colab": {
          "base_uri": "https://localhost:8080/"
        },
        "id": "yCkZmSyYRSML",
        "outputId": "5d1779e0-b521-4e02-983f-cddedd9ef00c"
      },
      "execution_count": null,
      "outputs": [
        {
          "output_type": "stream",
          "name": "stdout",
          "text": [
            "confidence interval: (100.85981766472894, 102.78018233527105)\n"
          ]
        }
      ]
    },
    {
      "cell_type": "markdown",
      "source": [
        "Q10"
      ],
      "metadata": {
        "id": "6lKk06j0S2YD"
      }
    },
    {
      "cell_type": "code",
      "source": [
        "import numpy as np\n",
        "import scipy.stats as st\n",
        "\n",
        "data = [45, 55, 67, 45, 68, 79, 98, 87, 84, 82]\n",
        "\n",
        "sample_mean = np.mean(data)\n",
        "sample_std = np.std(data, ddof=1)\n",
        "n = len(data)\n",
        "\n",
        "standard_error = sample_std / np.sqrt(n)\n",
        "\n",
        "confidence_level = 0.98\n",
        "degrees_of_freedom = n - 1\n",
        "confidence_interval = st.t.interval(confidence_level, df=degrees_of_freedom, loc=sample_mean, scale=standard_error)\n",
        "print(\"98% confidence level: {confidence_interval}\")"
      ],
      "metadata": {
        "colab": {
          "base_uri": "https://localhost:8080/"
        },
        "id": "mAKBoPLdS4Kj",
        "outputId": "af06fa97-37de-49cc-c40a-7bfe5aa56ef2"
      },
      "execution_count": null,
      "outputs": [
        {
          "output_type": "stream",
          "name": "stdout",
          "text": [
            "98% confidence level: {confidence_interval}\n"
          ]
        }
      ]
    },
    {
      "cell_type": "markdown",
      "source": [
        "Q11"
      ],
      "metadata": {
        "id": "CCHoRJJXU2Dj"
      }
    },
    {
      "cell_type": "code",
      "source": [
        "p_hat = 57/510\n",
        "q_hat = 1 - p_hat\n",
        "n = 510\n",
        "z = 1.645\n",
        "\n",
        "margin_of_error = z * ((p_hat * q_hat) / n)**0.5\n",
        "\n",
        "lower_bound = p_hat - margin_of_error\n",
        "upper_bound = p_hat + margin_of_error\n",
        "\n",
        "print(f\"90% confidence level: ({lower_bound:.4f}, {upper_bound:.4f})\")"
      ],
      "metadata": {
        "colab": {
          "base_uri": "https://localhost:8080/"
        },
        "id": "nErIXBx2U3EW",
        "outputId": "f40c202c-7bdb-4c99-837b-9eedce3e55e5"
      },
      "execution_count": null,
      "outputs": [
        {
          "output_type": "stream",
          "name": "stdout",
          "text": [
            "90% confidence level: (0.0888, 0.1347)\n"
          ]
        }
      ]
    }
  ]
}