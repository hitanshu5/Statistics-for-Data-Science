{
  "nbformat": 4,
  "nbformat_minor": 0,
  "metadata": {
    "colab": {
      "provenance": [],
      "authorship_tag": "ABX9TyPVv8MJedNacEiRas6sKlK0",
      "include_colab_link": true
    },
    "kernelspec": {
      "name": "python3",
      "display_name": "Python 3"
    },
    "language_info": {
      "name": "python"
    }
  },
  "cells": [
    {
      "cell_type": "markdown",
      "metadata": {
        "id": "view-in-github",
        "colab_type": "text"
      },
      "source": [
        "<a href=\"https://colab.research.google.com/github/hitanshu5/Statistics-for-Data-Science/blob/main/SDSEXP10.ipynb\" target=\"_parent\"><img src=\"https://colab.research.google.com/assets/colab-badge.svg\" alt=\"Open In Colab\"/></a>"
      ]
    },
    {
      "cell_type": "markdown",
      "source": [
        "Question 1: For a give Titanic dataset, can it be concluded that gender and survival of passengers are related to each other?"
      ],
      "metadata": {
        "id": "4FjOLdG9XhJ8"
      }
    },
    {
      "cell_type": "code",
      "execution_count": 1,
      "metadata": {
        "colab": {
          "base_uri": "https://localhost:8080/"
        },
        "id": "nQ9YA64wO0tk",
        "outputId": "cfa6817f-9e94-47b5-cd3c-5e1c4a03f028"
      },
      "outputs": [
        {
          "output_type": "stream",
          "name": "stdout",
          "text": [
            "Survived    0    1\n",
            "Sex               \n",
            "female     81  233\n",
            "male      468  109\n",
            "Chi-square test for Gender and Survival:\n",
            "p-value =  1.1973570627755645e-58\n"
          ]
        }
      ],
      "source": [
        "import pandas as pd\n",
        "data = pd.read_csv('/content/Titanic-Dataset.csv')\n",
        "\n",
        "gender_survival_table = pd.crosstab(data['Sex'],data['Survived'])\n",
        "print(gender_survival_table)\n",
        "\n",
        "from scipy.stats import chi2_contingency\n",
        "chi2, p, dof, expected = chi2_contingency(gender_survival_table)\n",
        "print('Chi-square test for Gender and Survival:')\n",
        "print('p-value = ',p)"
      ]
    },
    {
      "cell_type": "markdown",
      "source": [
        "Question 2: For a give Titanic dataset, can it be concluded that class and survival of passengers are related to each other?"
      ],
      "metadata": {
        "id": "LLN6iimHXpNr"
      }
    },
    {
      "cell_type": "code",
      "source": [
        "class_survival_table = pd.crosstab(data['Pclass'], data['Survived'])\n",
        "print(class_survival_table)\n",
        "\n",
        "chi2, p, dof, expected = chi2_contingency(class_survival_table)\n",
        "print('\\nChi-square test for Class and Survival:')\n",
        "print('p-value =',p)"
      ],
      "metadata": {
        "colab": {
          "base_uri": "https://localhost:8080/"
        },
        "id": "JEym11poP362",
        "outputId": "e8abf656-9f96-43ee-9c23-379ff81878d4"
      },
      "execution_count": 3,
      "outputs": [
        {
          "output_type": "stream",
          "name": "stdout",
          "text": [
            "Survived    0    1\n",
            "Pclass            \n",
            "1          80  136\n",
            "2          97   87\n",
            "3         372  119\n",
            "\n",
            "Chi-square test for Class and Survival:\n",
            "p-value = 4.549251711298793e-23\n"
          ]
        }
      ]
    },
    {
      "cell_type": "markdown",
      "source": [
        "Question 3: A table shows the number of men and women buying different types of pets. Can it be concluded that gender and choice of pet are related to each other?                                                                          \n",
        "Question 4: For the given drug data, can we conclude that treatment is effective?"
      ],
      "metadata": {
        "id": "cq26ydKXXtPy"
      }
    },
    {
      "cell_type": "code",
      "source": [
        "from scipy.stats import chi2_contingency\n",
        "\n",
        "pet_data = [\n",
        "    ['men', 207, 282, 241],\n",
        "    ['women', 234, 242, 232],\n",
        "]\n",
        "\n",
        "contingency_table = [[row[1], row[2], row[3]] for row in pet_data[1:]]\n",
        "\n",
        "chi2, p, dof, expected = chi2_contingency(contingency_table)\n",
        "\n",
        "if p < 0.05:\n",
        "  print('There is a statistically significant relationship (p-value =', p, ').')\n",
        "else:\n",
        "  print('No statistically significant relationship (p-value =', p,').')"
      ],
      "metadata": {
        "colab": {
          "base_uri": "https://localhost:8080/"
        },
        "id": "BBG1RF1iQgys",
        "outputId": "84039290-d55b-4663-aa03-a4a3438ba8bf"
      },
      "execution_count": 4,
      "outputs": [
        {
          "output_type": "stream",
          "name": "stdout",
          "text": [
            "No statistically significant relationship (p-value = 1.0 ).\n"
          ]
        }
      ]
    },
    {
      "cell_type": "markdown",
      "source": [
        "Question 5: The table below is an exit poll which displays the joint responses to 2 categorical variables: people in categories from 18–29, 30–44, 45–64 and >65 years, and their political affiliation, which is “Conservative”, “Socialist” and “Other”. Create data corresponding to this information. Is there any evidence of a relationship between the age group and their political affiliation, at 5% significant level?"
      ],
      "metadata": {
        "id": "nY8CyynyYHKy"
      }
    },
    {
      "cell_type": "code",
      "source": [
        "from scipy.stats import chi2_contingency\n",
        "\n",
        "exit_poll_data = [\n",
        "    [141, 68, 4],\n",
        "    [179, 159, 7],\n",
        "    [7, 20, 8],\n",
        "]\n",
        "\n",
        "age_groups = ['Conservative','Socialist','Other']\n",
        "\n",
        "chi2, p, dof, expected = chi2_contingency(exit_poll_data)\n",
        "\n",
        "if p < 0.05:\n",
        "  print('There is a statistically significant relationship between age groups and political affiliation (p-value =', p, ').')\n",
        "else:\n",
        "  print('No statistically significant relationship between age groups and political affiliation (p-value =', p, ').')"
      ],
      "metadata": {
        "colab": {
          "base_uri": "https://localhost:8080/"
        },
        "id": "1yAZJ2ooR_R2",
        "outputId": "ee4a9600-ab95-4ed6-8ed3-5d92fc9145fe"
      },
      "execution_count": 6,
      "outputs": [
        {
          "output_type": "stream",
          "name": "stdout",
          "text": [
            "There is a statistically significant relationship between age groups and political affiliation (p-value = 1.209846818871488e-13 ).\n"
          ]
        }
      ]
    },
    {
      "cell_type": "markdown",
      "source": [
        "Question 6: A researcher takes a random sample and pick 123 students about their party affiliation. Out of them 57 vote for party A, 26 vote for party B and 40 for Others. Generally, 41.5% of people vote for the party A, 25.7% for the party B and the remaining 32.8% as Others. Test the hypothesis that sample data follows given distribution."
      ],
      "metadata": {
        "id": "q12YfC53YRlz"
      }
    },
    {
      "cell_type": "code",
      "source": [
        "from scipy.stats import chi2_contingency\n",
        "\n",
        "observed_counts = [57, 26, 40]\n",
        "expected_counts = [123 * 0.415, 123 * 0.257, 123 * 0.328]\n",
        "\n",
        "chi2, p, dof, expected = chi2_contingency([observed_counts])\n",
        "\n",
        "if p < 0.05:\n",
        "  print('We reject the null hypothesis.The sample data deviates significantly from the expected distribution (p-value =', p, ').')\n",
        "else:\n",
        "  print('We fail to reject the null hypothesis.The sample data deviates significantly from the expected distribution (p-value =', p, ').')"
      ],
      "metadata": {
        "colab": {
          "base_uri": "https://localhost:8080/"
        },
        "id": "qOCsAvRCSbEX",
        "outputId": "cdca0fd0-e0df-4ad6-a115-4c1ac01deea3"
      },
      "execution_count": 7,
      "outputs": [
        {
          "output_type": "stream",
          "name": "stdout",
          "text": [
            "We fail to reject the null hypothesis.The sample data deviates significantly from the expected distribution (p-value = 1.0 ).\n"
          ]
        }
      ]
    },
    {
      "cell_type": "markdown",
      "source": [
        "Question 7: A bulb manufacturer wants to know whether the life of the bulbs follows the normal distribution. Forty bulbs are randomly sampled, and their life, in months, are observed"
      ],
      "metadata": {
        "id": "XzAn-MuSX9gi"
      }
    },
    {
      "cell_type": "code",
      "source": [
        "import numpy as np\n",
        "from scipy.stats import shapiro\n",
        "\n",
        "bulb_life_data = np.random.randint(50,150,size=40)\n",
        "\n",
        "stat, p = shapiro(bulb_life_data)\n",
        "\n",
        "if p > 0.05:\n",
        "  print('The Bulb life data does not significantly deviate from a normal distribution (p-value =', p, ').')\n",
        "else:\n",
        "  print('the buld life data significantly deviate from a normal distribution (p-value =', p, ').')"
      ],
      "metadata": {
        "colab": {
          "base_uri": "https://localhost:8080/"
        },
        "id": "QgTp-CqYUFLE",
        "outputId": "370e79c0-5c1c-4b43-992f-2c7fed09f88e"
      },
      "execution_count": 8,
      "outputs": [
        {
          "output_type": "stream",
          "name": "stdout",
          "text": [
            "The Bulb life data does not significantly deviate from a normal distribution (p-value = 0.37128350138664246 ).\n"
          ]
        }
      ]
    },
    {
      "cell_type": "markdown",
      "source": [
        "Question 8: Check whether the dice is unbiased. It is tossed 90 times and the counts of outcomes are given in table."
      ],
      "metadata": {
        "id": "0bDCG3QMX4yT"
      }
    },
    {
      "cell_type": "code",
      "source": [
        "from scipy.stats import chi2_contingency\n",
        "\n",
        "expected_counts = [15, 15, 15, 15, 15, 15]\n",
        "dice_rolls = [20, 18, 12, 17, 13, 10]\n",
        "\n",
        "chi2, p, dof, expected = chi2_contingency([dice_rolls])\n",
        "\n",
        "if p < 0.05:\n",
        "  print('We reject the null hypothesis.The dice roll results deviates significantly from the expected distribution (p-value =', p, ').')\n",
        "else:\n",
        "  print('We fail to reject the null hypothesis.The dice roll results deviates significantly from the expected distribution (p-value =', p, ').')"
      ],
      "metadata": {
        "colab": {
          "base_uri": "https://localhost:8080/"
        },
        "id": "dqNd5GaaUxRD",
        "outputId": "b418d3fb-5df9-48d9-9d39-3384b45e23b8"
      },
      "execution_count": 9,
      "outputs": [
        {
          "output_type": "stream",
          "name": "stdout",
          "text": [
            "We fail to reject the null hypothesis.The dice roll results deviates significantly from the expected distribution (p-value = 1.0 ).\n"
          ]
        }
      ]
    }
  ]
}